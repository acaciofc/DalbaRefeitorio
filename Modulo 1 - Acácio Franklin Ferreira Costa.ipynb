{
 "cells": [
  {
   "cell_type": "code",
   "execution_count": 1,
   "id": "f0cea575",
   "metadata": {},
   "outputs": [
    {
     "name": "stdout",
     "output_type": "stream",
     "text": [
      "Meu nome é Acácio Frnklin Ferreira Costa\n"
     ]
    }
   ],
   "source": [
    "# 1. Faça um programa que imprima seu nome na tela\n",
    "nome = 'Acácio Frnklin Ferreira Costa'\n",
    "print('Meu nome é %s' %nome)"
   ]
  },
  {
   "cell_type": "code",
   "execution_count": 3,
   "id": "50fc2d0c",
   "metadata": {},
   "outputs": [
    {
     "name": "stdout",
     "output_type": "stream",
     "text": [
      "O resultado de 5a x 3b é igual a 150\n"
     ]
    }
   ],
   "source": [
    "# 2. Faça um programa que exiba o resultado 5a x 3b onde a = 2 e b = 5\n",
    "a = 2\n",
    "b = 5\n",
    "resultado = (5 * a) * (3 * b)\n",
    "print ('O resultado de 5a x 3b é igual a %d' %resultado)"
   ]
  },
  {
   "cell_type": "code",
   "execution_count": 4,
   "id": "edca19b2",
   "metadata": {},
   "outputs": [
    {
     "name": "stdout",
     "output_type": "stream",
     "text": [
      "A soma de a + b + c é 12\n"
     ]
    }
   ],
   "source": [
    "# 3. Modifique o programa anterior, inserindo uma terceira variável c = 5 e imprima a soma das três variáveis\n",
    "a = 2\n",
    "b = 5\n",
    "c = 5\n",
    "resultado = a + b + c\n",
    "print('A soma de a + b + c é %d' %resultado)"
   ]
  },
  {
   "cell_type": "code",
   "execution_count": 3,
   "id": "4e328b74",
   "metadata": {},
   "outputs": [
    {
     "name": "stdout",
     "output_type": "stream",
     "text": [
      "Digite o primeiro numero: \n",
      "None\n",
      "***************************************\n",
      " <-> NÃO É UM NUMERO....TENTE NOVAMENTE\n",
      "***************************************\n",
      "\n",
      "Digite o primeiro numero: \n",
      "None5\n",
      "Digite o segundo numero: \n",
      "None5\n",
      "+ -> SOMA\n",
      "- -> SUBTRAÇÃO\n",
      "/ -> DIVISÃO\n",
      "* -> MULTIPLICAÇÃO\n",
      "QUAL OPERAÇÃO DESEJA?\n",
      "None+\n",
      "A OPERAÇÃO DE 5 + 5 = 10\n"
     ]
    }
   ],
   "source": [
    "# 4. Escreva um programa que leia dois números e pergunte qual operação que você deseja realizar. Você pode calcular a \n",
    "# soma(+), subtração (-), multiplicação (*) e divisão (/), exiba o resultado da operação\n",
    "\n",
    "primeiro = input(print('Digite o primeiro numero: '))\n",
    "while primeiro.isnumeric() == False:\n",
    "    mensagem = ('%s <-> NÃO É UM NUMERO....TENTE NOVAMENTE' %primeiro)\n",
    "    print(len(mensagem) * '*')\n",
    "    print(mensagem)\n",
    "    print(len(mensagem) * '*')\n",
    "    print('')\n",
    "    primeiro = input(print('Digite o primeiro numero: '))\n",
    "    \n",
    "segundo = input(print('Digite o segundo numero: '))\n",
    "while  segundo.isnumeric() == False:\n",
    "    mensagem = ('%s <-> NÃO É UM NUMERO....TENTE NOVAMENTE' %segundo)\n",
    "    print(len(mensagem) * '*')\n",
    "    print(mensagem)\n",
    "    print(len(mensagem) * '*')\n",
    "    print('')\n",
    "    segundo = input(print('Digite o segundo numero: '))\n",
    "\n",
    "print('+ -> SOMA')\n",
    "print('- -> SUBTRAÇÃO')\n",
    "print('/ -> DIVISÃO')\n",
    "print('* -> MULTIPLICAÇÃO')\n",
    "operador = input(print('QUAL OPERAÇÃO DESEJA?'))\n",
    "\n",
    "if operador not in ['+', '-', '/', '*']:\n",
    "    while operador not in ['+', '-', '/', '*']:\n",
    "        mensagem = ('%s <-> NÃO É UM OPERADOR VÁLIDO' %operador)\n",
    "        print(len(mensagem) * '*')\n",
    "        print(mensagem)\n",
    "        print(len(mensagem) * '*')\n",
    "        print('+ -> SOMA')\n",
    "        print('- -> SUBTRAÇÃO')\n",
    "        print('/ -> DIVISÃO')\n",
    "        print('* -> MULTIPLICAÇÃO')\n",
    "        operador = input(print('QUAL OPERAÇÃO DESEJA?'))\n",
    "primeiro = int(primeiro)\n",
    "segundo = int(segundo)\n",
    "        \n",
    "if operador == '+':\n",
    "    print('A OPERAÇÃO DE ' + str(primeiro) + ' '+ operador + ' ' + str(segundo) + ' = ' + str(primeiro+segundo))\n",
    "elif operador == '-':\n",
    "    print('A OPERAÇÃO DE ' + str(primeiro) + ' '+ operador + ' ' + str(segundo) + ' = ' + str(primeiro-segundo))\n",
    "elif operador == '/':\n",
    "    print('A OPERAÇÃO DE ' + str(primeiro) + ' '+ operador + ' ' + str(segundo) + ' = ' + str(primeiro/segundo))\n",
    "elif operador == '*':\n",
    "    print('A OPERAÇÃO DE ' + str(primeiro) + ' '+ operador + ' ' + str(segundo) + ' = ' + str(primeiro*segundo))"
   ]
  },
  {
   "cell_type": "code",
   "execution_count": 55,
   "id": "c2e59273",
   "metadata": {},
   "outputs": [
    {
     "name": "stdout",
     "output_type": "stream",
     "text": [
      "1\n",
      "2\n",
      "3\n",
      "4\n",
      "5\n",
      "6\n",
      "7\n",
      "8\n",
      "9\n",
      "10\n"
     ]
    }
   ],
   "source": [
    "# 5. Escreva um programa para contar de 1 a 10\n",
    "for i in range(1,11):\n",
    "    print(i)\n"
   ]
  },
  {
   "cell_type": "code",
   "execution_count": 61,
   "id": "1630e71b",
   "metadata": {},
   "outputs": [
    {
     "name": "stdout",
     "output_type": "stream",
     "text": [
      "Total de números pares: 5\n",
      "Soma de números pares: 30\n",
      "Total de números impares: 5\n",
      "Soma de números impares: 25\n"
     ]
    }
   ],
   "source": [
    "# 6. escreva um programa para contar quantos números pares e impares existentes entre 1 e 10 bem como a soma deles\n",
    "# a) usando a instrução while\n",
    "\n",
    "i = 1\n",
    "contpar = contimpar = somapar = somaimpar = 0\n",
    "\n",
    "while i <= 10:\n",
    "    if (i%2) == 0:\n",
    "        contpar += 1\n",
    "        somapar += i\n",
    "    else:\n",
    "        contimpar += 1\n",
    "        somaimpar += i\n",
    "    i += 1\n",
    "print('Total de números pares: %d' %contpar)\n",
    "print('Soma de números pares: %d' %somapar)\n",
    "print('Total de números impares: %d' %contimpar)\n",
    "print('Soma de números impares: %d' %somaimpar)"
   ]
  },
  {
   "cell_type": "code",
   "execution_count": 65,
   "id": "64610f5a",
   "metadata": {},
   "outputs": [
    {
     "name": "stdout",
     "output_type": "stream",
     "text": [
      "Total de números pares: 5\n",
      "Soma de números pares: 30\n",
      "Total de números impares: 5\n",
      "Soma de números impares: 25\n"
     ]
    }
   ],
   "source": [
    "#b) Usando a instrução for e a função range\n",
    "contpar = contimpar = somapar = somaimpar = 0\n",
    "\n",
    "for i in range(1,11):\n",
    "    if (i%2) == 0:\n",
    "        contpar += 1\n",
    "        somapar += i\n",
    "    else:\n",
    "        contimpar += 1\n",
    "        somaimpar += i\n",
    "    \n",
    "    \n",
    "print('Total de números pares: %d' %contpar)\n",
    "print('Soma de números pares: %d' %somapar)\n",
    "print('Total de números impares: %d' %contimpar)\n",
    "print('Soma de números impares: %d' %somaimpar)"
   ]
  },
  {
   "cell_type": "code",
   "execution_count": 77,
   "id": "929263ba",
   "metadata": {},
   "outputs": [
    {
     "name": "stdout",
     "output_type": "stream",
     "text": [
      "Entre com o valor de a: 1\n",
      "Entre com o valor de b: 5\n",
      "Entre com o valor de c: 5\n",
      "x1: -1.381966011250105, x2: -3.618033988749895\n"
     ]
    }
   ],
   "source": [
    "#7. Escreva um programa para resolver equações do segundo grau representadas por ax2 + bx + c usando a formula de Baskara\n",
    "#a) sem usar o módulo math\n",
    "a = int(input('Entre com o valor de a: '))\n",
    "b = int(input('Entre com o valor de b: '))\n",
    "c = int(input('Entre com o valor de c: '))\n",
    "\n",
    "delta = (b ** 2) - 4 * a * c\n",
    "\n",
    "if a == 0:\n",
    "    print(\"O valor de a, deve ser diferente de 0\")\n",
    "elif delta < 0:\n",
    "    print(\"Sem raízes reais\")\n",
    "else:\n",
    "    x1 = (-b + delta ** (1 / 2)) / (2 * a)\n",
    "    x2 = (-b - delta ** (1 / 2)) / (2 * a)\n",
    "\n",
    "    print(\"x1: {}, x2: {}\".format(x1, x2))"
   ]
  },
  {
   "cell_type": "code",
   "execution_count": 81,
   "id": "8c8fd91c",
   "metadata": {},
   "outputs": [
    {
     "name": "stdout",
     "output_type": "stream",
     "text": [
      "Entre com o valor de a: 1\n",
      "Entre com o valor de b: 5\n",
      "Entre com o valor de c: 5\n",
      "x1: -1.5, x2: -3.5\n"
     ]
    }
   ],
   "source": [
    "#b) usando o módulo math\n",
    "import math\n",
    "\n",
    "\n",
    "a = int(input('Entre com o valor de a: '))\n",
    "b = int(input('Entre com o valor de b: '))\n",
    "c = int(input('Entre com o valor de c: '))\n",
    "\n",
    "delta = (b ** 2) - 4 * a * c\n",
    "\n",
    "if a == 0:\n",
    "    print(\"O valor de a, deve ser diferente de 0\")\n",
    "elif delta < 0:\n",
    "    print(\"Sem raízes reais\")\n",
    "else:\n",
    "    x1 = (-b + math.isqrt(delta)) / (2 * a)\n",
    "    x2 = (-b - math.isqrt(delta)) / (2 * a)\n",
    "\n",
    "    print(\"x1: {}, x2: {}\".format(x1, x2))"
   ]
  },
  {
   "cell_type": "code",
   "execution_count": 113,
   "id": "f577311b",
   "metadata": {},
   "outputs": [
    {
     "name": "stdout",
     "output_type": "stream",
     "text": [
      "x1: 3.0, x2: 2.0\n",
      "x1: 3.0, x2: -3.0\n",
      "x1: 9.0, x2: 0.0\n",
      "x1: 3.0, x2: -4.0\n",
      "Sem raízes reais\n"
     ]
    }
   ],
   "source": [
    "#c) Teste seu programa com os coeficientes\n",
    "\n",
    "lista = [[1,-5,6],[1,0,-9],[5,-45,0],[1,1,-12],[1,-6,10]]\n",
    "import math\n",
    "\n",
    "for i in range(0, len(lista)):\n",
    "    a = lista[i][0]\n",
    "    b = lista[i][1]\n",
    "    c = lista[i][2]\n",
    "    delta = (b ** 2) - 4 * a * c\n",
    "    if a == 0:\n",
    "        print(\"O valor de a, deve ser diferente de 0\")\n",
    "    elif delta < 0:\n",
    "        print(\"Sem raízes reais\")\n",
    "    else:\n",
    "        x1 = (-b + math.isqrt(delta)) / (2 * a)\n",
    "        x2 = (-b - math.isqrt(delta)) / (2 * a)\n",
    "        print(\"x1: {}, x2: {}\".format(x1, x2))"
   ]
  },
  {
   "cell_type": "code",
   "execution_count": 112,
   "id": "59ee6a03",
   "metadata": {},
   "outputs": [
    {
     "name": "stdout",
     "output_type": "stream",
     "text": [
      "x1: 3.0, x2: 2.0\n",
      "x1: 3.0, x2: -3.0\n",
      "x1: 9.0, x2: 0.0\n",
      "x1: 3.0, x2: -4.0\n",
      "Sem raízes reais\n"
     ]
    }
   ],
   "source": [
    "#8) Vamos reescrever o programa acima criando uma função bhaskara que recebe como parâmetros os coeficientes a, b, e c \n",
    "# retorna as raízes da equação\n",
    "def bhaskara (a,b,c):\n",
    "    delta = (b ** 2) - 4 * a * c\n",
    "    if a == 0:\n",
    "        resposta = print(\"O valor de a, deve ser diferente de 0\")\n",
    "    elif delta < 0:\n",
    "        resposta = print(\"Sem raízes reais\")\n",
    "    else:\n",
    "        x1 = (-b + math.isqrt(delta)) / (2 * a)\n",
    "        x2 = (-b - math.isqrt(delta)) / (2 * a)\n",
    "        resposta = print(\"x1: {}, x2: {}\".format(x1, x2))\n",
    "    return resposta\n",
    "\n",
    "\n",
    "lista = [[1,-5,6],[1,0,-9],[5,-45,0],[1,1,-12],[1,-6,10]]\n",
    "import math\n",
    "\n",
    "for i in range(0, len(lista)):\n",
    "    a = lista[i][0]\n",
    "    b = lista[i][1]\n",
    "    c = lista[i][2]\n",
    "    bhaskara(a,b,c)\n",
    "    "
   ]
  },
  {
   "cell_type": "code",
   "execution_count": 114,
   "id": "4b11e694",
   "metadata": {},
   "outputs": [],
   "source": [
    "#a) O que significa palavras reservadas em Python? Qais são as palavras reservadas no código acima?\n",
    "#R: São palavras que definem a estrutura e sintaxe do Python. Não podemos usar essas palavras para nomear objetos. \n",
    "#No texto acima temos as palavras reservadas def, if, return, None, else\n",
    "\n",
    "#b) Qual a função de cada uma dessas palavras reservadas no código?\n",
    "    # def - definir uma função\n",
    "    # if - iniciar uma condição\n",
    "    # return - atribuir o valor que sera retornado pela variável\n",
    "    # None - falta de valor\n",
    "    # else - atribuido quando o if é falso"
   ]
  },
  {
   "cell_type": "code",
   "execution_count": 116,
   "id": "fa68e72a",
   "metadata": {},
   "outputs": [
    {
     "name": "stdout",
     "output_type": "stream",
     "text": [
      "MENTORAMA\n"
     ]
    }
   ],
   "source": [
    "#9. Considerando a string 'Mentorama' escreva um programa que:\n",
    "#a) converta a string para maiusculo e em seguida\n",
    "texto = 'Mentorama'\n",
    "texto = texto.upper()\n",
    "print(texto)"
   ]
  },
  {
   "cell_type": "code",
   "execution_count": 117,
   "id": "2576cc24",
   "metadata": {},
   "outputs": [
    {
     "name": "stdout",
     "output_type": "stream",
     "text": [
      "AMAROTNEM\n"
     ]
    }
   ],
   "source": [
    "#b) imprima de traz pra frente\n",
    "texto = texto[::-1]\n",
    "print(texto)"
   ]
  },
  {
   "cell_type": "code",
   "execution_count": 122,
   "id": "dc9d3baf",
   "metadata": {},
   "outputs": [
    {
     "name": "stdout",
     "output_type": "stream",
     "text": [
      "A\n",
      "A\n",
      "O\n",
      "E\n"
     ]
    }
   ],
   "source": [
    "#c) imprima somente as vogais\n",
    "for i in texto:\n",
    "    if i in 'aAeEiIoOuU':\n",
    "        print(i)"
   ]
  },
  {
   "cell_type": "code",
   "execution_count": 138,
   "id": "c821ca23",
   "metadata": {},
   "outputs": [
    {
     "name": "stdout",
     "output_type": "stream",
     "text": [
      "Nome: Joao da Silva\n"
     ]
    }
   ],
   "source": [
    "#10. Escreva um programa que receba como entrada do usuário o nome João sobrenome da Silva, idade 25, Cidade São Paulo, \n",
    "#ddd 11, telefone 3333-3333 e faça as seguintes instruções\n",
    "\n",
    "nome = 'Joao'\n",
    "sobrenome = 'da Silva'\n",
    "cidade = 'São Paulo'\n",
    "idade = '25'\n",
    "ddd = '11'\n",
    "telefone = '3333-3333'\n",
    "\n",
    "#a) imprima tela em uma unica linha o nome completo\n",
    "print('Nome: %s %s' %(nome, sobrenome))"
   ]
  },
  {
   "cell_type": "code",
   "execution_count": 136,
   "id": "5d6a1742",
   "metadata": {},
   "outputs": [
    {
     "name": "stdout",
     "output_type": "stream",
     "text": [
      "Telefone: (11) 3333-3333\n"
     ]
    }
   ],
   "source": [
    "#b) imprima o telefone com o ddd em uma única linha\n",
    "print(\"Telefone: (%s) %s\"%(ddd, telefone))"
   ]
  },
  {
   "cell_type": "code",
   "execution_count": 139,
   "id": "d7d1ba2c",
   "metadata": {},
   "outputs": [
    {
     "name": "stdout",
     "output_type": "stream",
     "text": [
      "Idade: 25\n"
     ]
    }
   ],
   "source": [
    "#c) imprima na tela a idade\n",
    "print('Idade: %s'%idade)"
   ]
  },
  {
   "cell_type": "code",
   "execution_count": 140,
   "id": "9d2a6702",
   "metadata": {},
   "outputs": [
    {
     "name": "stdout",
     "output_type": "stream",
     "text": [
      "Cidade: São Paulo\n"
     ]
    }
   ],
   "source": [
    "#d) imprima a cidade\n",
    "print('Cidade: %s'%cidade)"
   ]
  },
  {
   "cell_type": "code",
   "execution_count": null,
   "id": "792d4222",
   "metadata": {},
   "outputs": [],
   "source": []
  }
 ],
 "metadata": {
  "kernelspec": {
   "display_name": "Python 3 (ipykernel)",
   "language": "python",
   "name": "python3"
  },
  "language_info": {
   "codemirror_mode": {
    "name": "ipython",
    "version": 3
   },
   "file_extension": ".py",
   "mimetype": "text/x-python",
   "name": "python",
   "nbconvert_exporter": "python",
   "pygments_lexer": "ipython3",
   "version": "3.10.5"
  }
 },
 "nbformat": 4,
 "nbformat_minor": 5
}
