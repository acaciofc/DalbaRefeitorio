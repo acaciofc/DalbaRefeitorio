{
 "cells": [
  {
   "cell_type": "code",
   "execution_count": 5,
   "id": "30fea8fe",
   "metadata": {},
   "outputs": [],
   "source": [
    "import pyautogui\n",
    "import time\n",
    "import os\n",
    "\n",
    "time.sleep(1)\n",
    "\n",
    "\n",
    "time.sleep(2)\n",
    "hhhhhhhh"
   ]
  },
  {
   "cell_type": "code",
   "execution_count": null,
   "id": "d5c49093",
   "metadata": {},
   "outputs": [],
   "source": []
  }
 ],
 "metadata": {
  "kernelspec": {
   "display_name": "Python 3 (ipykernel)",
   "language": "python",
   "name": "python3"
  },
  "language_info": {
   "codemirror_mode": {
    "name": "ipython",
    "version": 3
   },
   "file_extension": ".py",
   "mimetype": "text/x-python",
   "name": "python",
   "nbconvert_exporter": "python",
   "pygments_lexer": "ipython3",
   "version": "3.10.5"
  }
 },
 "nbformat": 4,
 "nbformat_minor": 5
}
