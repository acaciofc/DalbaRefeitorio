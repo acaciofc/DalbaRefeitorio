{
 "cells": [
  {
   "cell_type": "code",
   "execution_count": null,
   "id": "89034b29",
   "metadata": {},
   "outputs": [],
   "source": [
    "#1. Crie um programa que leia nome, sexo, iade de várias pessoas, guardando os dados de cada um em um dicionário e \n",
    "#e todos os dicionários em uma lita. No final, mostre:\n",
    "\n",
    "dicionario = {}\n",
    "opcao = 's'\n",
    "id = 1\n",
    "while opcao != 'N':\n",
    "    nome = input('Digite o nome: ')\n",
    "    sexo = input('Digite o sexo: ')\n",
    "    idade = input('Digite o idade: ')\n",
    "    nome = nome.upper()\n",
    "    sexo = sexo.upper()\n",
    "    idade = idade.upper()\n",
    "    dicionario[id] = (nome,sexo,idade)\n",
    "    id += 1\n",
    "    opcao = input('Deseja Continuar [S/N]: ')\n",
    "    opcao = opcao.upper()\n"
   ]
  },
  {
   "cell_type": "code",
   "execution_count": 2,
   "id": "5ef4bf10",
   "metadata": {},
   "outputs": [
    {
     "name": "stdout",
     "output_type": "stream",
     "text": [
      "Quantidade de pessoas cadastradas: 1\n"
     ]
    }
   ],
   "source": [
    "#a) Quantas pessoas foram cadatradas\n",
    "print('Quantidade de pessoas cadastradas: %d'%len(dicionario))"
   ]
  },
  {
   "cell_type": "code",
   "execution_count": 3,
   "id": "a8763670",
   "metadata": {},
   "outputs": [
    {
     "name": "stdout",
     "output_type": "stream",
     "text": [
      "A média de idade é: 12\n"
     ]
    }
   ],
   "source": [
    "#b) Média de idade\n",
    "idades = 0\n",
    "for chave, valores in dicionario.items():\n",
    "    idades += int(valores[2])\n",
    "media = idades / len(dicionario)\n",
    "print('A média de idade é: %d'%media)"
   ]
  },
  {
   "cell_type": "code",
   "execution_count": 4,
   "id": "945ad184",
   "metadata": {},
   "outputs": [
    {
     "name": "stdout",
     "output_type": "stream",
     "text": [
      "[]\n"
     ]
    }
   ],
   "source": [
    "#c) Uma lista com as mulheres\n",
    "mulheres = []\n",
    "for chave, valores in dicionario.items():\n",
    "    if valores[1] == 'F':\n",
    "        mulheres.append(valores)\n",
    "print(mulheres)\n"
   ]
  },
  {
   "cell_type": "code",
   "execution_count": 5,
   "id": "36e8be4a",
   "metadata": {},
   "outputs": [
    {
     "name": "stdout",
     "output_type": "stream",
     "text": [
      "[]\n"
     ]
    }
   ],
   "source": [
    "#d) Uma lista de pessoas com idade acima da média\n",
    "acima = []\n",
    "for chave, valores in dicionario.items():\n",
    "    if int(valores[2]) > media:\n",
    "        acima.append(valores)\n",
    "print(acima)"
   ]
  },
  {
   "cell_type": "code",
   "execution_count": 6,
   "id": "0215319b",
   "metadata": {},
   "outputs": [
    {
     "name": "stdout",
     "output_type": "stream",
     "text": [
      "1\n",
      "2\n",
      "3\n",
      "4\n"
     ]
    }
   ],
   "source": [
    "#2. Escreva um programa python para criar uma tupla com numeros de 1 a 4 e imprima um item\n",
    "tupla = (1,2,3,4)\n",
    "\n",
    "for i in range(0,len(tupla)):\n",
    "    print (tupla[i])\n"
   ]
  },
  {
   "cell_type": "code",
   "execution_count": 7,
   "id": "5d560d6a",
   "metadata": {},
   "outputs": [
    {
     "name": "stdout",
     "output_type": "stream",
     "text": [
      "1º elemento: aluno <class 'str'>\n",
      "2º elemento: universidade <class 'str'>\n",
      "3º elemento: nota <class 'str'>\n",
      "4º elemento: resultado <class 'str'>\n"
     ]
    }
   ],
   "source": [
    "#3. Escreva um programa python para desenpacotar uma tupla em varias variáveis\n",
    "tupla = ('aluno', 'universidade', 'nota', 'resultado')\n",
    "w, x, y, z = tupla\n",
    "print ('1º elemento: %s '%w, end=\"\")\n",
    "print(type(w))\n",
    "print ('2º elemento: %s '%x, end=\"\")\n",
    "print(type(x))\n",
    "print ('3º elemento: %s '%y, end=\"\")\n",
    "print(type(y))\n",
    "print ('4º elemento: %s '%z, end=\"\")\n",
    "print(type(z))"
   ]
  },
  {
   "cell_type": "code",
   "execution_count": 8,
   "id": "76b44bfb",
   "metadata": {},
   "outputs": [],
   "source": [
    "#4. Crie 3 conjuntos conforme estrutura a seguir\n",
    "setx = set(['apple','mango'])\n",
    "sety = set(['mango', 'orange'])\n",
    "setz = set(['mango'])"
   ]
  },
  {
   "cell_type": "code",
   "execution_count": 9,
   "id": "6e05d974",
   "metadata": {},
   "outputs": [
    {
     "name": "stdout",
     "output_type": "stream",
     "text": [
      "{'apple', 'orange', 'mango'}\n"
     ]
    }
   ],
   "source": [
    "#a) Faça a união dos três conjuntos e imprima o resultado\n",
    "setresultado = setx.union(sety.union(setz))\n",
    "print (setresultado)"
   ]
  },
  {
   "cell_type": "code",
   "execution_count": 10,
   "id": "e2582027",
   "metadata": {},
   "outputs": [
    {
     "name": "stdout",
     "output_type": "stream",
     "text": [
      "{'mango'}\n"
     ]
    }
   ],
   "source": [
    "#b) Verifique quais os elementos comuns do conjunto setx e sety e imprima o resultado\n",
    "setresultado = setx.intersection(sety)\n",
    "print (setresultado)"
   ]
  },
  {
   "cell_type": "code",
   "execution_count": 11,
   "id": "6b681dc0",
   "metadata": {},
   "outputs": [
    {
     "name": "stdout",
     "output_type": "stream",
     "text": [
      "False\n",
      "False\n"
     ]
    }
   ],
   "source": [
    "#c) Verifique se o conunto setx é subconjunto do conjunto sety e setz utilizando o issubset()\n",
    "print(setx.issubset(sety))\n",
    "print(setx.issubset(setz))"
   ]
  },
  {
   "cell_type": "code",
   "execution_count": 14,
   "id": "f4a35d45",
   "metadata": {},
   "outputs": [
    {
     "name": "stdout",
     "output_type": "stream",
     "text": [
      "{'apple'}\n"
     ]
    }
   ],
   "source": [
    "#d) Verifique quais elementos do conjunto setx nao existem em sety\n",
    "print(setx.difference(sety))"
   ]
  },
  {
   "cell_type": "code",
   "execution_count": 46,
   "id": "18cabf1f",
   "metadata": {},
   "outputs": [
    {
     "name": "stdout",
     "output_type": "stream",
     "text": [
      "{'color4': 'Orange', 'color2': 'Grenn', 'color3': 'Blue', 'color1': 'Red'}\n"
     ]
    }
   ],
   "source": [
    "#5. Escreva um programa Python para inserir um elemento no início de um determinado dicionario ordenado\n",
    "DicionarioOrdenado = {'color1':'Red', 'color2':'Grenn','color3':'Blue'}\n",
    "\n",
    "DicionarioOrdenado['color4'] = 'Orange'\n",
    "tupla = list(DicionarioOrdenado.items())\n",
    "i = 0\n",
    "j = (len(DicionarioOrdenado)-1)\n",
    "tupla[i], tupla[j] = tupla[j], tupla[i]\n",
    "res = dict(tupla)\n",
    "print(res)"
   ]
  },
  {
   "cell_type": "code",
   "execution_count": 1,
   "id": "b674471a",
   "metadata": {},
   "outputs": [
    {
     "name": "stdout",
     "output_type": "stream",
     "text": [
      "                                                                  Jose\n",
      "None\n"
     ]
    }
   ],
   "source": [
    "#6) Escreva uma funcao que receba uma string para ultima letra posição 70\n",
    "\n",
    "def rigth_justify(s):\n",
    "    aux = (' ' * (70-len(s)))\n",
    "    resultado = aux+s\n",
    "    return print(resultado)\n",
    "\n",
    "print(rigth_justify('Jose'))"
   ]
  },
  {
   "cell_type": "code",
   "execution_count": 2,
   "id": "a6ca5b7d",
   "metadata": {},
   "outputs": [
    {
     "name": "stdout",
     "output_type": "stream",
     "text": [
      "spam\n",
      "spam\n"
     ]
    }
   ],
   "source": [
    "#7) Um objeto de função é um valor que pode ser atribuido\n",
    "#a. Digite este exemplo em um script e teste-o\n",
    "def do_twice(f):\n",
    "    f()\n",
    "    f()\n",
    "    \n",
    "\n",
    "def print_spam():\n",
    "    print('spam')\n",
    "\n",
    "do_twice(print_spam)"
   ]
  },
  {
   "cell_type": "code",
   "execution_count": 8,
   "id": "257dad49",
   "metadata": {},
   "outputs": [
    {
     "name": "stdout",
     "output_type": "stream",
     "text": [
      "spam\n",
      "teste\n"
     ]
    }
   ],
   "source": [
    "#b) Altere o do_twice\n",
    "def do_twice(f,x):\n",
    "    f()\n",
    "    print(x)\n",
    "    \n",
    "\n",
    "def print_spam():\n",
    "    print('spam')\n",
    "\n",
    "do_twice(print_spam,'teste')"
   ]
  },
  {
   "cell_type": "code",
   "execution_count": 4,
   "id": "8c206632",
   "metadata": {},
   "outputs": [
    {
     "name": "stdout",
     "output_type": "stream",
     "text": [
      "Digite a mensagem: \n",
      "Nonefksdjfklsdj\n",
      "A mensagem foi fksdjfklsdj\n"
     ]
    }
   ],
   "source": [
    "#8. Crie um programa que faça a impressão\n",
    "#a) Usuário deve entrar com a mensagem\n",
    "def imprimir (mensagem):\n",
    "    print('A mensagem foi ' + mensagem)\n",
    "\n",
    "nome = input(print('Digite a mensagem: '))\n",
    "\n",
    "imprimir(nome)"
   ]
  },
  {
   "cell_type": "code",
   "execution_count": null,
   "id": "136168bb",
   "metadata": {},
   "outputs": [],
   "source": []
  },
  {
   "cell_type": "code",
   "execution_count": 7,
   "id": "8c6e6c80",
   "metadata": {},
   "outputs": [
    {
     "name": "stdout",
     "output_type": "stream",
     "text": [
      "Digite o primeiro: \n",
      "None5\n",
      "Digite o segundo: \n",
      "None5\n",
      "A multiplicação de 5 x 5 é igual 25\n"
     ]
    }
   ],
   "source": [
    "#b) o usuario entra com os dois multiplicadores\n",
    "def multi (a, b):\n",
    "    c = a*b\n",
    "    print('A multiplicação de ' + str(a) + ' x ' + str(b) + ' é igual '+ str(c))\n",
    "\n",
    "primeiro = int(input(print('Digite o primeiro: ')))\n",
    "segundo = int(input(print('Digite o segundo: ')))\n",
    "multi(primeiro, segundo)"
   ]
  },
  {
   "cell_type": "code",
   "execution_count": 82,
   "id": "5f603b3d",
   "metadata": {},
   "outputs": [
    {
     "name": "stdout",
     "output_type": "stream",
     "text": [
      "['3', '9', '4', '6']\n",
      "['C', 'H', 'Q', '6', '4', '9', '3']\n",
      "CHQ6493\n"
     ]
    }
   ],
   "source": [
    "def arrumar (nome):\n",
    "    letra = []\n",
    "    numero = []\n",
    "    nome = list(nome)\n",
    "    for x in range (0, len(nome)):\n",
    "        if nome[x]  in '0123456789':\n",
    "            numero.append(nome[x])\n",
    "        else:\n",
    "            letra.append(nome[x])\n",
    "    rev = list(reversed(numero))\n",
    "    \n",
    "    for i in range (0, len(rev)):\n",
    "        letra.append(rev[i])\n",
    "    final = \"\".join(letra)\n",
    "    print(final)\n",
    "\n",
    "nome = '3C9H4Q6'\n",
    "arrumar(nome)\n"
   ]
  },
  {
   "cell_type": "code",
   "execution_count": 87,
   "id": "b182ea52",
   "metadata": {},
   "outputs": [
    {
     "name": "stdout",
     "output_type": "stream",
     "text": [
      "3 é True\n",
      "C é False\n",
      "9 é True\n",
      "H é False\n",
      "4 é True\n",
      "Q é False\n",
      "6 é True\n"
     ]
    }
   ],
   "source": [
    "#b) supor metodo eDigito\n",
    "def verdadeiro (nome):\n",
    "    for i in range(0, len(nome)):\n",
    "        if nome[i] in '0123456789':\n",
    "            print(nome[i]+' é ', end=\"\")\n",
    "            print(True)\n",
    "        else:\n",
    "            print(nome[i]+' é ', end=\"\")\n",
    "            print(False)\n",
    "nome = '3C9H4Q6'\n",
    "verdadeiro(nome)"
   ]
  },
  {
   "cell_type": "code",
   "execution_count": null,
   "id": "eb089705",
   "metadata": {},
   "outputs": [],
   "source": []
  }
 ],
 "metadata": {
  "kernelspec": {
   "display_name": "Python 3 (ipykernel)",
   "language": "python",
   "name": "python3"
  },
  "language_info": {
   "codemirror_mode": {
    "name": "ipython",
    "version": 3
   },
   "file_extension": ".py",
   "mimetype": "text/x-python",
   "name": "python",
   "nbconvert_exporter": "python",
   "pygments_lexer": "ipython3",
   "version": "3.10.5"
  }
 },
 "nbformat": 4,
 "nbformat_minor": 5
}
