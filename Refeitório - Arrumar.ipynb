{
 "cells": [
  {
   "cell_type": "code",
   "execution_count": 2,
   "id": "7980d1ae",
   "metadata": {},
   "outputs": [
    {
     "name": "stderr",
     "output_type": "stream",
     "text": [
      "100%|██████████████████████████████████████████████████████████████████████████████| 1402/1402 [05:05<00:00,  4.59it/s]\n"
     ]
    }
   ],
   "source": [
    "import pyautogui\n",
    "import time\n",
    "import os\n",
    "from tqdm import tqdm\n",
    "\n",
    "time.sleep(1)\n",
    "pyautogui.click(3234,651)\n",
    "\n",
    "time.sleep(2)\n",
    "valor = 1402\n",
    "#result = 0\n",
    "\n",
    "for i in tqdm(range(valor)):\n",
    "    #result += i  \n",
    "    #time.sleep(2)\n",
    "    pyautogui.hotkey('f2')\n",
    "    pyautogui.hotkey('enter')\n",
    "        \n",
    "        \n",
    "\n",
    " \n",
    "\n"
   ]
  },
  {
   "cell_type": "raw",
   "id": "778598a2",
   "metadata": {},
   "source": [
    "\n",
    "\n",
    "from tqdm import tqdm\n",
    " \n",
    "result = 0\n",
    "for i in tqdm(range(10000000)):\n",
    "    result += i"
   ]
  },
  {
   "cell_type": "code",
   "execution_count": 4,
   "id": "2fc4e34d",
   "metadata": {},
   "outputs": [
    {
     "data": {
      "text/plain": [
       "21"
      ]
     },
     "execution_count": 4,
     "metadata": {},
     "output_type": "execute_result"
    }
   ],
   "source": [
    "i"
   ]
  },
  {
   "cell_type": "code",
   "execution_count": null,
   "id": "15ebe55d",
   "metadata": {},
   "outputs": [],
   "source": [
    "pyautogui.KEYBOARD_KEYS"
   ]
  },
  {
   "cell_type": "code",
   "execution_count": null,
   "id": "ce2b4644",
   "metadata": {},
   "outputs": [],
   "source": [
    "zezinho = guruzinho *50\n",
    "print(zezinho)"
   ]
  },
  {
   "cell_type": "code",
   "execution_count": 8,
   "id": "f2cff69f",
   "metadata": {},
   "outputs": [
    {
     "name": "stdout",
     "output_type": "stream",
     "text": [
      "55\n"
     ]
    }
   ],
   "source": [
    "print(i)"
   ]
  },
  {
   "cell_type": "code",
   "execution_count": 9,
   "id": "b4704e95",
   "metadata": {},
   "outputs": [
    {
     "data": {
      "text/plain": [
       "30"
      ]
     },
     "execution_count": 9,
     "metadata": {},
     "output_type": "execute_result"
    }
   ],
   "source": [
    "os.get_terminal_size().lines"
   ]
  },
  {
   "cell_type": "code",
   "execution_count": 7,
   "id": "407581e9",
   "metadata": {},
   "outputs": [
    {
     "data": {
      "text/plain": [
       "22"
      ]
     },
     "execution_count": 7,
     "metadata": {},
     "output_type": "execute_result"
    }
   ],
   "source": [
    "x"
   ]
  },
  {
   "cell_type": "code",
   "execution_count": null,
   "id": "b3feec7c",
   "metadata": {},
   "outputs": [],
   "source": []
  }
 ],
 "metadata": {
  "kernelspec": {
   "display_name": "Python 3 (ipykernel)",
   "language": "python",
   "name": "python3"
  },
  "language_info": {
   "codemirror_mode": {
    "name": "ipython",
    "version": 3
   },
   "file_extension": ".py",
   "mimetype": "text/x-python",
   "name": "python",
   "nbconvert_exporter": "python",
   "pygments_lexer": "ipython3",
   "version": "3.10.11"
  }
 },
 "nbformat": 4,
 "nbformat_minor": 5
}
