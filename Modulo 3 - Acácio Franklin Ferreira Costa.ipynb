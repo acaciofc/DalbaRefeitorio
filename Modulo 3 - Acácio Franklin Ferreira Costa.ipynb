{
 "cells": [
  {
   "cell_type": "code",
   "execution_count": 1,
   "id": "3204a79e",
   "metadata": {},
   "outputs": [],
   "source": [
    "#1. Classe bola\n",
    "class Bola:\n",
    "    def __init__ (self, cor, circunferencia, material):\n",
    "        self.cor = cor\n",
    "        self.circunferencia = circunferencia\n",
    "        self.material = material\n",
    "    \n",
    "    def trocaCor(self, cor):\n",
    "        self.cor = cor\n",
    "        print('A nova cor é '+ self.cor)\n",
    "    def mostraCor(self):\n",
    "        print('A cor atual é ' + self.cor)\n",
    "\n",
    "x = Bola('azul', 50, 'couro')"
   ]
  },
  {
   "cell_type": "code",
   "execution_count": 23,
   "id": "f931bd0d",
   "metadata": {},
   "outputs": [],
   "source": [
    "#2. Classe Quadrado\n",
    "class Quadrado:\n",
    "    def __init__(self, tamanho):\n",
    "        self.tamanho = tamanho\n",
    "    def mudar(self, tamanho):\n",
    "        self.tamanho = tamanho\n",
    "        print(\"Novo tamanho é %d\" %self.tamanho)\n",
    "    def area (self):\n",
    "        area = self.tamanho * self.tamanho\n",
    "        print('A área é %d' %area)\n",
    "y = Quadrado(5)"
   ]
  },
  {
   "cell_type": "code",
   "execution_count": 54,
   "id": "c5b0840b",
   "metadata": {},
   "outputs": [],
   "source": [
    "#3. Classe Retangulo\n",
    "class Retangulo:\n",
    "    def __init__(self, LadoA, LadoB):\n",
    "        self.LadoA = LadoA\n",
    "        self.LadoB = LadoB\n",
    "    def mudar(self, LadoA, LadoB):\n",
    "        self.LadoA = LadoA\n",
    "        self.LadoB = LadoB\n",
    "        print('O novo valor do LadoA é %d'%self.LadoA)\n",
    "        print('O novo valor do LadoB é %d'%self.LadoB)\n",
    "    def area(self):\n",
    "        area = self.LadoA * self.LadoB\n",
    "        #print('Area é %d'%area)\n",
    "        return area\n",
    "    def perimetro(self):\n",
    "        perimetro = 2*(self.LadoA + self.LadoB)\n",
    "        #print('O perímetro é %d'%perimetro)\n",
    "        return perimetro"
   ]
  },
  {
   "cell_type": "code",
   "execution_count": 56,
   "id": "7fb53e84",
   "metadata": {},
   "outputs": [
    {
     "name": "stdout",
     "output_type": "stream",
     "text": [
      "Digite a largura: \n",
      "None10\n",
      "Digite a altura: \n",
      "None20\n",
      "A quantidade de piso necessária é 200\n",
      "A quantidade de rodape necessária é 60\n"
     ]
    }
   ],
   "source": [
    "#c) Medidas do local\n",
    "largura = int(input(print(\"Digite a largura: \")))\n",
    "altura = int(input(print(\"Digite a altura: \")))\n",
    "\n",
    "local = Retangulo(largura, altura)\n",
    "piso = local.area()\n",
    "rodape = local.perimetro()\n",
    "print('A quantidade de piso necessária é ', end='')\n",
    "print(piso)\n",
    "print('A quantidade de rodape necessária é ', end='')\n",
    "print(rodape)"
   ]
  },
  {
   "cell_type": "code",
   "execution_count": 63,
   "id": "7967c2ca",
   "metadata": {},
   "outputs": [],
   "source": [
    "#4. Classe Pessoa\n",
    "class Pessoa:\n",
    "    def __init__ (self, nome, idade, peso, altura):\n",
    "        self.nome = nome\n",
    "        self.idade = idade\n",
    "        self.peso = peso\n",
    "        self.altura = altura\n",
    "    def envelhecer (self, idade):\n",
    "        self.idade += idade\n",
    "        if self.idade > 21:\n",
    "            self.altura += 0.05*(self.idade-21)\n",
    "        return self.idade\n",
    "    def engordar (self, peso):\n",
    "        self.peso += peso\n",
    "        return self.peso\n",
    "    def emagrecer (self, peso):\n",
    "        self.peso -= peso\n",
    "        return self.peso\n",
    "    def crescer (self, altura):\n",
    "        self.altura += altura\n",
    "        return self.altura"
   ]
  },
  {
   "cell_type": "code",
   "execution_count": 64,
   "id": "6aa36240",
   "metadata": {},
   "outputs": [],
   "source": [
    "x = Pessoa('Acácio', 39, 100, 1.8)"
   ]
  },
  {
   "cell_type": "code",
   "execution_count": 9,
   "id": "5dc7d989",
   "metadata": {},
   "outputs": [
    {
     "name": "stdout",
     "output_type": "stream",
     "text": [
      "Ano: 2020\n",
      "Modelo: corsa\n",
      "Cor: azul\n"
     ]
    }
   ],
   "source": [
    "#5. Classe carro\n",
    "class Carro:\n",
    "    def __init__ (self, ano, modelo, cor ):\n",
    "        self.ano = ano\n",
    "        self.modelo = modelo\n",
    "        self.cor = cor\n",
    "    def imprima (self):\n",
    "        print('Ano: %d'%self.ano)\n",
    "        print('Modelo: %s'%self.modelo)\n",
    "        print('Cor: %s'%self.cor)\n",
    "carro = Carro(2020,'corsa', 'azul')\n",
    "carro.imprima()"
   ]
  },
  {
   "cell_type": "code",
   "execution_count": 30,
   "id": "2bc63608",
   "metadata": {},
   "outputs": [],
   "source": [
    "#6. Conta corrente\n",
    "class Conta:\n",
    "    def __init__(self, conta, nome, saldo=0):\n",
    "        self.conta = conta\n",
    "        self.nome = nome\n",
    "        self.saldo = saldo\n",
    "    def imprima(self):\n",
    "        print(' A conta ' + self.conta + ' e de propridedade de ' + self.nome + ' tem o saldo de ' + str(self.saldo))\n",
    "    def AlteraNome (self, nome):\n",
    "        self.nome = nome\n",
    "        return self.nome\n",
    "    def Deposito (self, valor):\n",
    "        self.saldo += valor\n",
    "        return self.saldo\n",
    "    def Saque (self, valor):\n",
    "        self.saldo -= valor\n",
    "        return self.saldo\n"
   ]
  },
  {
   "cell_type": "code",
   "execution_count": 44,
   "id": "b8e39ba6",
   "metadata": {},
   "outputs": [],
   "source": [
    "x = Conta('000158-9', \"Acácio\")"
   ]
  },
  {
   "cell_type": "code",
   "execution_count": 166,
   "id": "6ac6fb03",
   "metadata": {},
   "outputs": [],
   "source": [
    "#7. Classe TV\n",
    "def ValCanal(canal):\n",
    "    if (canal < 1) or (canal > 10):\n",
    "        print('Canal Inválido')\n",
    "        return 0\n",
    "    else:\n",
    "        return 1\n",
    "    \n",
    "def ValVolume(volume):\n",
    "    if (volume < 1) or (volume > 100):\n",
    "        print('Volume Inválido')\n",
    "        return 0\n",
    "    else:\n",
    "        return 1\n",
    "\n",
    "class TVclass:\n",
    "    def __init__ (self, canal, volume):\n",
    "        if (ValCanal(canal)) and (ValVolume(volume)) == 1:\n",
    "            self.canal = canal\n",
    "            self.volume = volume\n",
    "    def AlteraCanal(self, canal):\n",
    "        if ValCanal(canal) == 1:        \n",
    "            self.canal = canal\n",
    "            return print('Canal Alterado')\n",
    "    def AumentaVolume (self, volume):\n",
    "        volume += self.volume\n",
    "        if ValVolume(volume) == 1:        \n",
    "            self.volume = volume\n",
    "            return print('Volume Alterado')\n",
    "    def DiminuiVolume (self, volume):\n",
    "        volume = self.volume - volume\n",
    "        if ValVolume(volume) == 1:        \n",
    "            self.volume = volume\n",
    "            return print('Volume Alterado')"
   ]
  },
  {
   "cell_type": "code",
   "execution_count": 206,
   "id": "e525c8c2",
   "metadata": {},
   "outputs": [],
   "source": [
    "#8. Bomba de Combustível\n",
    "class Bomba:\n",
    "    def __init__ (self, tipo, valor, quantidade):\n",
    "        self.tipo = tipo\n",
    "        self.valor = valor\n",
    "        self.quantidade = quantidade\n",
    "    def AbastecerPorValor(self, valor):\n",
    "        quantidade = valor / self.valor\n",
    "        if (self.quantidade - quantidade) < 0:\n",
    "            return print('Abastecimento não permitido')\n",
    "        else:\n",
    "            self.quantidade = self.quantidade - quantidade\n",
    "            return self.quantidade\n",
    "    def AbastecerPorLitro (self, valor):\n",
    "        if (self.quantidade - valor) < 0:\n",
    "            return print(\"Abastecimento não permitido\")\n",
    "        else:\n",
    "            self.quantidade = self.quantidade - valor\n",
    "            return self.quantidade\n",
    "    def AlteraValor (self, valor):\n",
    "        self.valor = valor\n",
    "        print('Valor Alterado')\n",
    "        return self.valor\n",
    "    def AlteraTipo (self, tipo):\n",
    "        self.tipo = tipo\n",
    "        print('Tipo Alterado')\n",
    "        return self.tipo\n",
    "    def AlteraQuantidade (self, quantidade):\n",
    "        self.quantidade += quantidade\n",
    "        print('Quantidade alterada')\n",
    "        return self.quantidade"
   ]
  },
  {
   "cell_type": "code",
   "execution_count": 207,
   "id": "5a7b864b",
   "metadata": {},
   "outputs": [],
   "source": [
    "ab = Bomba('diesel', 5, 100)"
   ]
  }
 ],
 "metadata": {
  "kernelspec": {
   "display_name": "Python 3 (ipykernel)",
   "language": "python",
   "name": "python3"
  },
  "language_info": {
   "codemirror_mode": {
    "name": "ipython",
    "version": 3
   },
   "file_extension": ".py",
   "mimetype": "text/x-python",
   "name": "python",
   "nbconvert_exporter": "python",
   "pygments_lexer": "ipython3",
   "version": "3.10.5"
  }
 },
 "nbformat": 4,
 "nbformat_minor": 5
}
