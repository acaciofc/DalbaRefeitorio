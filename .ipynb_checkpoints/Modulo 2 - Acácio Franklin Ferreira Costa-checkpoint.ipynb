{
 "cells": [
  {
   "cell_type": "code",
   "execution_count": null,
   "id": "89034b29",
   "metadata": {},
   "outputs": [],
   "source": [
    "#1. Crie um programa que leia nome, sexo, iade de várias pessoas, guardando os dados de cada um em um dicionário e \n",
    "#e todos os dicionários em uma lita. No final, mostre:\n",
    "\n",
    "dicionario = {}\n",
    "opcao = 's'\n",
    "id = 1\n",
    "while opcao != 'N':\n",
    "    nome = input('Digite o nome: ')\n",
    "    sexo = input('Digite o sexo: ')\n",
    "    idade = input('Digite o idade: ')\n",
    "    nome = nome.upper()\n",
    "    sexo = sexo.upper()\n",
    "    idade = idade.upper()\n",
    "    dicionario[id] = (nome,sexo,idade)\n",
    "    id += 1\n",
    "    opcao = input('Deseja Continuar [S/N]: ')\n",
    "    opcao = opcao.upper()\n"
   ]
  },
  {
   "cell_type": "code",
   "execution_count": 2,
   "id": "5ef4bf10",
   "metadata": {},
   "outputs": [
    {
     "name": "stdout",
     "output_type": "stream",
     "text": [
      "Quantidade de pessoas cadastradas: 1\n"
     ]
    }
   ],
   "source": [
    "#a) Quantas pessoas foram cadatradas\n",
    "print('Quantidade de pessoas cadastradas: %d'%len(dicionario))"
   ]
  },
  {
   "cell_type": "code",
   "execution_count": 3,
   "id": "a8763670",
   "metadata": {},
   "outputs": [
    {
     "name": "stdout",
     "output_type": "stream",
     "text": [
      "A média de idade é: 12\n"
     ]
    }
   ],
   "source": [
    "#b) Média de idade\n",
    "idades = 0\n",
    "for chave, valores in dicionario.items():\n",
    "    idades += int(valores[2])\n",
    "media = idades / len(dicionario)\n",
    "print('A média de idade é: %d'%media)"
   ]
  },
  {
   "cell_type": "code",
   "execution_count": 4,
   "id": "945ad184",
   "metadata": {},
   "outputs": [
    {
     "name": "stdout",
     "output_type": "stream",
     "text": [
      "[]\n"
     ]
    }
   ],
   "source": [
    "#c) Uma lista com as mulheres\n",
    "mulheres = []\n",
    "for chave, valores in dicionario.items():\n",
    "    if valores[1] == 'F':\n",
    "        mulheres.append(valores)\n",
    "print(mulheres)\n"
   ]
  },
  {
   "cell_type": "code",
   "execution_count": 5,
   "id": "36e8be4a",
   "metadata": {},
   "outputs": [
    {
     "name": "stdout",
     "output_type": "stream",
     "text": [
      "[]\n"
     ]
    }
   ],
   "source": [
    "#d) Uma lista de pessoas com idade acima da média\n",
    "acima = []\n",
    "for chave, valores in dicionario.items():\n",
    "    if int(valores[2]) > media:\n",
    "        acima.append(valores)\n",
    "print(acima)"
   ]
  },
  {
   "cell_type": "code",
   "execution_count": 6,
   "id": "0215319b",
   "metadata": {},
   "outputs": [
    {
     "name": "stdout",
     "output_type": "stream",
     "text": [
      "1\n",
      "2\n",
      "3\n",
      "4\n"
     ]
    }
   ],
   "source": [
    "#2. Escreva um programa python para criar uma tupla com numeros de 1 a 4 e imprima um item\n",
    "tupla = (1,2,3,4)\n",
    "\n",
    "for i in range(0,len(tupla)):\n",
    "    print (tupla[i])\n"
   ]
  },
  {
   "cell_type": "code",
   "execution_count": 7,
   "id": "5d560d6a",
   "metadata": {},
   "outputs": [
    {
     "name": "stdout",
     "output_type": "stream",
     "text": [
      "1º elemento: aluno <class 'str'>\n",
      "2º elemento: universidade <class 'str'>\n",
      "3º elemento: nota <class 'str'>\n",
      "4º elemento: resultado <class 'str'>\n"
     ]
    }
   ],
   "source": [
    "#3. Escreva um programa python para desenpacotar uma tupla em varias variáveis\n",
    "tupla = ('aluno', 'universidade', 'nota', 'resultado')\n",
    "w, x, y, z = tupla\n",
    "print ('1º elemento: %s '%w, end=\"\")\n",
    "print(type(w))\n",
    "print ('2º elemento: %s '%x, end=\"\")\n",
    "print(type(x))\n",
    "print ('3º elemento: %s '%y, end=\"\")\n",
    "print(type(y))\n",
    "print ('4º elemento: %s '%z, end=\"\")\n",
    "print(type(z))"
   ]
  },
  {
   "cell_type": "code",
   "execution_count": 8,
   "id": "76b44bfb",
   "metadata": {},
   "outputs": [],
   "source": [
    "#4. Crie 3 conjuntos conforme estrutura a seguir\n",
    "setx = set(['apple','mango'])\n",
    "sety = set(['mango', 'orange'])\n",
    "setz = set(['mango'])"
   ]
  },
  {
   "cell_type": "code",
   "execution_count": 9,
   "id": "6e05d974",
   "metadata": {},
   "outputs": [
    {
     "name": "stdout",
     "output_type": "stream",
     "text": [
      "{'apple', 'orange', 'mango'}\n"
     ]
    }
   ],
   "source": [
    "#a) Faça a união dos três conjuntos e imprima o resultado\n",
    "setresultado = setx.union(sety.union(setz))\n",
    "print (setresultado)"
   ]
  },
  {
   "cell_type": "code",
   "execution_count": 10,
   "id": "e2582027",
   "metadata": {},
   "outputs": [
    {
     "name": "stdout",
     "output_type": "stream",
     "text": [
      "{'mango'}\n"
     ]
    }
   ],
   "source": [
    "#b) Verifique quais os elementos comuns do conjunto setx e sety e imprima o resultado\n",
    "setresultado = setx.intersection(sety)\n",
    "print (setresultado)"
   ]
  },
  {
   "cell_type": "code",
   "execution_count": 11,
   "id": "6b681dc0",
   "metadata": {},
   "outputs": [
    {
     "name": "stdout",
     "output_type": "stream",
     "text": [
      "False\n",
      "False\n"
     ]
    }
   ],
   "source": [
    "#c) Verifique se o conunto setx é subconjunto do conjunto sety e setz utilizando o issubset()\n",
    "print(setx.issubset(sety))\n",
    "print(setx.issubset(setz))"
   ]
  },
  {
   "cell_type": "code",
   "execution_count": 14,
   "id": "f4a35d45",
   "metadata": {},
   "outputs": [
    {
     "name": "stdout",
     "output_type": "stream",
     "text": [
      "{'apple'}\n"
     ]
    }
   ],
   "source": [
    "#d) Verifique quais elementos do conjunto setx nao existem em sety\n",
    "print(setx.difference(sety))"
   ]
  },
  {
   "cell_type": "code",
   "execution_count": 46,
   "id": "18cabf1f",
   "metadata": {},
   "outputs": [
    {
     "name": "stdout",
     "output_type": "stream",
     "text": [
      "{'color4': 'Orange', 'color2': 'Grenn', 'color3': 'Blue', 'color1': 'Red'}\n"
     ]
    }
   ],
   "source": [
    "#5. Escreva um programa Python para inserir um elemento no início de um determinado dicionario ordenado\n",
    "DicionarioOrdenado = {'color1':'Red', 'color2':'Grenn','color3':'Blue'}\n",
    "\n",
    "DicionarioOrdenado['color4'] = 'Orange'\n",
    "tupla = list(DicionarioOrdenado.items())\n",
    "i = 0\n",
    "j = (len(DicionarioOrdenado)-1)\n",
    "tupla[i], tupla[j] = tupla[j], tupla[i]\n",
    "res = dict(tupla)\n",
    "print(res)"
   ]
  },
  {
   "cell_type": "code",
   "execution_count": 1,
   "id": "b674471a",
   "metadata": {},
   "outputs": [
    {
     "name": "stdout",
     "output_type": "stream",
     "text": [
      "                                                                  Jose\n",
      "None\n"
     ]
    }
   ],
   "source": [
    "#6) Escreva uma funcao que receba uma string para ultima letra posição 70\n",
    "\n",
    "def rigth_justify(s):\n",
    "    aux = (' ' * (70-len(s)))\n",
    "    resultado = aux+s\n",
    "    return print(resultado)\n",
    "\n",
    "print(rigth_justify('Jose'))"
   ]
  },
  {
   "cell_type": "code",
   "execution_count": 2,
   "id": "a6ca5b7d",
   "metadata": {},
   "outputs": [
    {
     "name": "stdout",
     "output_type": "stream",
     "text": [
      "spam\n",
      "spam\n"
     ]
    }
   ],
   "source": [
    "#7) Um objeto de função é um valor que pode ser atribuido\n",
    "#a. Digite este exemplo em um script e teste-o\n",
    "def do_twice(f):\n",
    "    f()\n",
    "    f()\n",
    "    \n",
    "\n",
    "def print_spam():\n",
    "    print('spam')\n",
    "\n",
    "do_twice(print_spam)"
   ]
  },
  {
   "cell_type": "code",
   "execution_count": 8,
   "id": "257dad49",
   "metadata": {},
   "outputs": [
    {
     "name": "stdout",
     "output_type": "stream",
     "text": [
      "spam\n",
      "teste\n"
     ]
    }
   ],
   "source": [
    "#b) Altere o do_twice\n",
    "def do_twice(f,x):\n",
    "    f()\n",
    "    print(x)\n",
    "    \n",
    "\n",
    "def print_spam():\n",
    "    print('spam')\n",
    "\n",
    "do_twice(print_spam,'teste')"
   ]
  },
  {
   "cell_type": "code",
   "execution_count": 2,
   "id": "8c206632",
   "metadata": {},
   "outputs": [
    {
     "ename": "NameError",
     "evalue": "name 'f' is not defined",
     "output_type": "error",
     "traceback": [
      "\u001b[1;31m---------------------------------------------------------------------------\u001b[0m",
      "\u001b[1;31mNameError\u001b[0m                                 Traceback (most recent call last)",
      "Input \u001b[1;32mIn [2]\u001b[0m, in \u001b[0;36m<cell line: 1>\u001b[1;34m()\u001b[0m\n\u001b[1;32m----> 1\u001b[0m \u001b[43mf\u001b[49m\n",
      "\u001b[1;31mNameError\u001b[0m: name 'f' is not defined"
     ]
    }
   ],
   "source": [
    "#8. "
   ]
  },
  {
   "cell_type": "code",
   "execution_count": null,
   "id": "8c6e6c80",
   "metadata": {},
   "outputs": [],
   "source": []
  }
 ],
 "metadata": {
  "kernelspec": {
   "display_name": "Python 3 (ipykernel)",
   "language": "python",
   "name": "python3"
  },
  "language_info": {
   "codemirror_mode": {
    "name": "ipython",
    "version": 3
   },
   "file_extension": ".py",
   "mimetype": "text/x-python",
   "name": "python",
   "nbconvert_exporter": "python",
   "pygments_lexer": "ipython3",
   "version": "3.10.5"
  }
 },
 "nbformat": 4,
 "nbformat_minor": 5
}
